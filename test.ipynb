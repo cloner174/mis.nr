{
 "cells": [
  {
   "cell_type": "code",
   "execution_count": 6,
   "id": "e3985a56",
   "metadata": {},
   "outputs": [],
   "source": [
    "# #    #        In the name of God  # #"
   ]
  },
  {
   "cell_type": "code",
   "execution_count": 8,
   "id": "d3205879",
   "metadata": {},
   "outputs": [],
   "source": [
    "%matplotlib inline"
   ]
  },
  {
   "cell_type": "code",
   "execution_count": 9,
   "id": "3303fa12",
   "metadata": {},
   "outputs": [],
   "source": [
    "_ = plt.ioff()"
   ]
  },
  {
   "cell_type": "code",
   "execution_count": 10,
   "id": "8ee1d0aa",
   "metadata": {},
   "outputs": [
    {
     "name": "stdout",
     "output_type": "stream",
     "text": [
      "fatal: destination path 'flowutils' already exists and is not an empty directory.\r\n"
     ]
    }
   ],
   "source": [
    "!git clone https://github.com/whitews/flowutils"
   ]
  },
  {
   "cell_type": "code",
   "execution_count": 11,
   "id": "22f30f80",
   "metadata": {},
   "outputs": [
    {
     "name": "stdout",
     "output_type": "stream",
     "text": [
      "/home/admin/Documents/Python/mis.nr/mis.nr/flowutils\n"
     ]
    }
   ],
   "source": [
    "cd flowutils"
   ]
  },
  {
   "cell_type": "code",
   "execution_count": null,
   "id": "dd949c92",
   "metadata": {},
   "outputs": [],
   "source": [
    "!/home/admin/Documents/Python/mis.nr/.nr/bin/python3 setup.py install"
   ]
  },
  {
   "cell_type": "code",
   "execution_count": 13,
   "id": "c2251e98",
   "metadata": {},
   "outputs": [
    {
     "name": "stdout",
     "output_type": "stream",
     "text": [
      "fatal: destination path 'flowkit' already exists and is not an empty directory.\r\n"
     ]
    }
   ],
   "source": [
    "!git clone https://github.com/whitews/flowkit"
   ]
  },
  {
   "cell_type": "code",
   "execution_count": null,
   "id": "51b75b5c",
   "metadata": {},
   "outputs": [],
   "source": [
    "cd flowkit"
   ]
  },
  {
   "cell_type": "code",
   "execution_count": null,
   "id": "02abc69e",
   "metadata": {},
   "outputs": [],
   "source": [
    "!sudo /home/admin/Documents/Python/mis.nr/.nr/bin/python3 -m pip install --upgrade pip"
   ]
  },
  {
   "cell_type": "code",
   "execution_count": null,
   "id": "4b9dc94d",
   "metadata": {},
   "outputs": [],
   "source": [
    "!sudo /home/admin/Documents/Python/mis.nr/.nr/bin/python3 -m pip install -r requirements.txt"
   ]
  },
  {
   "cell_type": "code",
   "execution_count": null,
   "id": "4ec3098a",
   "metadata": {},
   "outputs": [],
   "source": [
    "!sudo /home/admin/Documents/Python/mis.nr/.nr/bin/python3 setup.py install"
   ]
  },
  {
   "cell_type": "code",
   "execution_count": null,
   "id": "0790d72c",
   "metadata": {},
   "outputs": [],
   "source": [
    "!sudo /home/admin/Documents/Python/mis.nr/.nr/bin/python3 -m pip install IPython"
   ]
  },
  {
   "cell_type": "code",
   "execution_count": null,
   "id": "fe56fa13",
   "metadata": {},
   "outputs": [],
   "source": [
    "#Done For Now!"
   ]
  },
  {
   "cell_type": "code",
   "execution_count": null,
   "id": "652a2a60",
   "metadata": {},
   "outputs": [],
   "source": [
    "import bokeh\n",
    "from bokeh.plotting import show\n",
    "import matplotlib.pyplot as plt\n",
    "import flowkit as fk"
   ]
  },
  {
   "cell_type": "code",
   "execution_count": null,
   "id": "fb961ab7",
   "metadata": {},
   "outputs": [],
   "source": [
    "bokeh.io.output_notebook()"
   ]
  },
  {
   "cell_type": "code",
   "execution_count": null,
   "id": "4adbf49a",
   "metadata": {},
   "outputs": [],
   "source": [
    "%matplotlib inline"
   ]
  },
  {
   "cell_type": "code",
   "execution_count": null,
   "id": "b32ab30f",
   "metadata": {},
   "outputs": [],
   "source": [
    "_ = plt.ioff()"
   ]
  },
  {
   "cell_type": "code",
   "execution_count": null,
   "id": "5ebf1825",
   "metadata": {},
   "outputs": [],
   "source": []
  },
  {
   "cell_type": "code",
   "execution_count": null,
   "id": "a4d3a132",
   "metadata": {},
   "outputs": [],
   "source": []
  },
  {
   "cell_type": "code",
   "execution_count": null,
   "id": "475838bb",
   "metadata": {},
   "outputs": [],
   "source": [
    "sample = fk.Sample(fcs_path)"
   ]
  },
  {
   "cell_type": "code",
   "execution_count": null,
   "id": "ab24b1ac",
   "metadata": {},
   "outputs": [],
   "source": [
    "#sample.get_metadata()\n",
    "\n",
    "#sample.channels"
   ]
  },
  {
   "cell_type": "code",
   "execution_count": null,
   "id": "706d9bd0",
   "metadata": {},
   "outputs": [],
   "source": [
    "#p = sample.plot_histogram('FS Lin', source='raw')\n",
    "#show(p)\n",
    "\n",
    "#p = sample.plot_histogram('FS Lin', source='raw', bins=256)\n",
    "#show(p)\n",
    "\n",
    "#f = sample.plot_channel('FS Lin', source='raw')\n",
    "#plt.show()"
   ]
  },
  {
   "cell_type": "code",
   "execution_count": null,
   "id": "6ab2633c",
   "metadata": {},
   "outputs": [],
   "source": [
    "p = data1.plot_scatter('FS Lin', 'SS Lin', source='raw')\n",
    "\n",
    "show(p)"
   ]
  },
  {
   "cell_type": "code",
   "execution_count": null,
   "id": "8d1c2f79",
   "metadata": {},
   "outputs": [],
   "source": [
    "xform = fk.transforms.LogicleTransform('my_logicle', param_t=1024, param_w=0.5, param_m=4.5, param_a=0)\n",
    "sample.apply_transform(xform)\n",
    "# change source to 'xform' to visualize the transformed data\n",
    "p = sample.plot_scatter('FS Lin', 'SS Lin', source='xform')\n",
    "show(p)"
   ]
  }
 ],
 "metadata": {
  "kernelspec": {
   "display_name": "Python 3 (ipykernel)",
   "language": "python",
   "name": "python3"
  },
  "language_info": {
   "codemirror_mode": {
    "name": "ipython",
    "version": 3
   },
   "file_extension": ".py",
   "mimetype": "text/x-python",
   "name": "python",
   "nbconvert_exporter": "python",
   "pygments_lexer": "ipython3",
   "version": "3.11.5"
  }
 },
 "nbformat": 4,
 "nbformat_minor": 5
}
