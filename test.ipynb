{
 "cells": [
  {
   "cell_type": "code",
   "execution_count": null,
   "id": "e3985a56",
   "metadata": {},
   "outputs": [],
   "source": [
    "# #    #        In the name of God  # #"
   ]
  },
  {
   "cell_type": "code",
   "execution_count": null,
   "id": "652a2a60",
   "metadata": {},
   "outputs": [],
   "source": [
    "import bokeh\n",
    "from bokeh.plotting import show\n",
    "import matplotlib.pyplot as plt\n",
    "import flowkit as fk"
   ]
  },
  {
   "cell_type": "code",
   "execution_count": null,
   "id": "fb961ab7",
   "metadata": {},
   "outputs": [],
   "source": [
    "bokeh.io.output_notebook()"
   ]
  },
  {
   "cell_type": "code",
   "execution_count": null,
   "id": "4adbf49a",
   "metadata": {},
   "outputs": [],
   "source": [
    "%matplotlib inline"
   ]
  },
  {
   "cell_type": "code",
   "execution_count": null,
   "id": "b32ab30f",
   "metadata": {},
   "outputs": [],
   "source": [
    "_ = plt.ioff()"
   ]
  },
  {
   "cell_type": "code",
   "execution_count": null,
   "id": "475838bb",
   "metadata": {},
   "outputs": [],
   "source": [
    "from main import nr"
   ]
  },
  {
   "cell_type": "code",
   "execution_count": null,
   "id": "522183d7",
   "metadata": {},
   "outputs": [],
   "source": [
    "infolder1 = 'data/input/hum'\n",
    "infolder2 = 'data/input/normal'\n",
    "\n",
    "outfolder = 'data/output'"
   ]
  },
  {
   "cell_type": "code",
   "execution_count": null,
   "id": "03ccdba0",
   "metadata": {},
   "outputs": [],
   "source": [
    "test = nr(infolder1, outfolder)"
   ]
  },
  {
   "cell_type": "code",
   "execution_count": null,
   "id": "bf0550bc",
   "metadata": {},
   "outputs": [],
   "source": [
    "A, B, C = test.main()"
   ]
  },
  {
   "cell_type": "code",
   "execution_count": null,
   "id": "ab24b1ac",
   "metadata": {},
   "outputs": [],
   "source": [
    "#sample.get_metadata()\n",
    "\n",
    "#sample.channels"
   ]
  },
  {
   "cell_type": "code",
   "execution_count": null,
   "id": "5a46f8b0",
   "metadata": {},
   "outputs": [],
   "source": [
    "for any_ in A:\n",
    "    \n",
    "    tempCreateFK = fk.Sample(any_)\n",
    "    p = tempCreateFK.plot_scatter('FS Lin', 'SS Lin', source='raw')\n",
    "    show(p)"
   ]
  },
  {
   "cell_type": "code",
   "execution_count": null,
   "id": "706d9bd0",
   "metadata": {},
   "outputs": [],
   "source": [
    "#p = sample.plot_histogram('FS Lin', source='raw')\n",
    "#show(p)\n",
    "\n",
    "#p = sample.plot_histogram('FS Lin', source='raw', bins=256)\n",
    "#show(p)\n",
    "\n",
    "#f = sample.plot_channel('FS Lin', source='raw')\n",
    "#plt.show()"
   ]
  },
  {
   "cell_type": "code",
   "execution_count": null,
   "id": "6ab2633c",
   "metadata": {},
   "outputs": [],
   "source": [
    "#p = sample.plot_scatter('FS Lin', 'SS Lin', source='raw')\n",
    "\n",
    "#show(p)"
   ]
  },
  {
   "cell_type": "code",
   "execution_count": null,
   "id": "8d1c2f79",
   "metadata": {},
   "outputs": [],
   "source": [
    "#xform = fk.transforms.LogicleTransform('my_logicle', param_t=1024, param_w=0.5, param_m=4.5, param_a=0)\n",
    "#sample.apply_transform(xform)\n",
    "# change source to 'xform' to visualize the transformed data\n",
    "#p = sample.plot_scatter('FS Lin', 'SS Lin', source='xform')\n",
    "#show(p)"
   ]
  }
 ],
 "metadata": {
  "kernelspec": {
   "display_name": "Python 3 (ipykernel)",
   "language": "python",
   "name": "python3"
  },
  "language_info": {
   "codemirror_mode": {
    "name": "ipython",
    "version": 3
   },
   "file_extension": ".py",
   "mimetype": "text/x-python",
   "name": "python",
   "nbconvert_exporter": "python",
   "pygments_lexer": "ipython3",
   "version": "3.11.5"
  }
 },
 "nbformat": 4,
 "nbformat_minor": 5
}
