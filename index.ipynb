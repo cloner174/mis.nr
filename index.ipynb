{
 "cells": [
  {
   "cell_type": "code",
   "execution_count": null,
   "id": "e3985a56",
   "metadata": {},
   "outputs": [],
   "source": [
    "# #    #        In the name of God  # #"
   ]
  },
  {
   "cell_type": "code",
   "execution_count": null,
   "id": "652a2a60",
   "metadata": {},
   "outputs": [],
   "source": [
    "import bokeh\n",
    "from bokeh.plotting import show\n",
    "import matplotlib.pyplot as plt\n",
    "import flowkit as fk"
   ]
  },
  {
   "cell_type": "code",
   "execution_count": null,
   "id": "fb961ab7",
   "metadata": {},
   "outputs": [],
   "source": [
    "bokeh.io.output_notebook()"
   ]
  },
  {
   "cell_type": "code",
   "execution_count": null,
   "id": "4adbf49a",
   "metadata": {},
   "outputs": [],
   "source": [
    "%matplotlib inline"
   ]
  },
  {
   "cell_type": "code",
   "execution_count": null,
   "id": "b32ab30f",
   "metadata": {},
   "outputs": [],
   "source": [
    "_ = plt.ioff()"
   ]
  },
  {
   "cell_type": "code",
   "execution_count": null,
   "id": "475838bb",
   "metadata": {},
   "outputs": [],
   "source": [
    "from main import nr"
   ]
  },
  {
   "cell_type": "code",
   "execution_count": null,
   "id": "522183d7",
   "metadata": {},
   "outputs": [],
   "source": [
    "infolder1 = 'data/input/hum'\n",
    "infolder2 = 'data/input/normal'\n",
    "\n",
    "outfolder = 'data/output'"
   ]
  },
  {
   "cell_type": "code",
   "execution_count": null,
   "id": "03ccdba0",
   "metadata": {},
   "outputs": [],
   "source": [
    "test = nr(infolder1, outfolder)"
   ]
  },
  {
   "cell_type": "code",
   "execution_count": null,
   "id": "bf0550bc",
   "metadata": {},
   "outputs": [],
   "source": [
    "A, B, C, D = test.main()"
   ]
  },
  {
   "cell_type": "code",
   "execution_count": null,
   "id": "c2c99de3",
   "metadata": {},
   "outputs": [],
   "source": [
    "len(A), len(B)"
   ]
  },
  {
   "cell_type": "code",
   "execution_count": null,
   "id": "5cd4480e",
   "metadata": {},
   "outputs": [],
   "source": [
    "a = A[0]\n",
    "aa = A[1]\n",
    "aaa = A[7]"
   ]
  },
  {
   "cell_type": "code",
   "execution_count": null,
   "id": "48eb70e2",
   "metadata": {},
   "outputs": [],
   "source": [
    "b = B[0]\n",
    "bb = B[1]\n",
    "bbb = B[7]"
   ]
  },
  {
   "cell_type": "code",
   "execution_count": null,
   "id": "234f37a8",
   "metadata": {},
   "outputs": [],
   "source": [
    "test1 = fk.Sample(a)\n",
    "test2 = fk.Sample(b)\n",
    "test3 = fk.Sample(aa)\n",
    "test4 = fk.Sample(bb)\n",
    "test5 = fk.Sample(aaa)\n",
    "test6 = fk.Sample(bbb)"
   ]
  },
  {
   "cell_type": "code",
   "execution_count": null,
   "id": "27c2e7ab",
   "metadata": {},
   "outputs": [],
   "source": [
    "##test2 = fk.Sample('data/output/FCSs/3.LMD_unit32_.fcs')\n",
    "##test3 = fk.Sample('data/output/FCSs/3.LMD_unit16_.fcs')"
   ]
  },
  {
   "cell_type": "code",
   "execution_count": null,
   "id": "261d689e",
   "metadata": {},
   "outputs": [],
   "source": [
    "p = test1.plot_scatter('FS Lin', 'SS Lin', source='raw')"
   ]
  },
  {
   "cell_type": "code",
   "execution_count": null,
   "id": "5f90554a",
   "metadata": {},
   "outputs": [],
   "source": [
    "show(p)"
   ]
  },
  {
   "cell_type": "code",
   "execution_count": null,
   "id": "1b4c06bc",
   "metadata": {},
   "outputs": [],
   "source": [
    "p = test2.plot_scatter('FS', 'SS', source='raw')\n",
    "show(p)\n",
    "p = test3.plot_scatter('FS Lin', 'SS Lin', source='raw')\n",
    "show(p)"
   ]
  },
  {
   "cell_type": "code",
   "execution_count": null,
   "id": "ab24b1ac",
   "metadata": {},
   "outputs": [],
   "source": [
    "#sample.get_metadata()\n",
    "\n",
    "#sample.channels"
   ]
  },
  {
   "cell_type": "code",
   "execution_count": null,
   "id": "c22fc52c",
   "metadata": {},
   "outputs": [],
   "source": [
    "test1.pnn_labels"
   ]
  },
  {
   "cell_type": "code",
   "execution_count": null,
   "id": "6a11fd6c",
   "metadata": {},
   "outputs": [],
   "source": [
    "test1.pns_labels"
   ]
  },
  {
   "cell_type": "code",
   "execution_count": null,
   "id": "5a46f8b0",
   "metadata": {},
   "outputs": [],
   "source": [
    "for any_ in A:\n",
    "    \n",
    "    tempCreateFK = fk.Sample(any_)\n",
    "    temp = (tempCreateFK.pnn_labels)\n",
    "    p = tempCreateFK.plot_scatter(temp[0], temp[1], source='raw')\n",
    "    show(p)"
   ]
  },
  {
   "cell_type": "code",
   "execution_count": null,
   "id": "ae7a6461",
   "metadata": {},
   "outputs": [],
   "source": [
    "for any_ in B:\n",
    "    \n",
    "    tempCreateFK = fk.Sample(any_)\n",
    "    temp = (tempCreateFK.pnn_labels)\n",
    "    p = tempCreateFK.plot_scatter(temp[0], temp[1], source='raw')\n",
    "    show(p)"
   ]
  },
  {
   "cell_type": "code",
   "execution_count": null,
   "id": "706d9bd0",
   "metadata": {},
   "outputs": [],
   "source": [
    "#p = sample.plot_histogram('FS Lin', source='raw')\n",
    "#show(p)\n",
    "\n",
    "#p = sample.plot_histogram('FS Lin', source='raw', bins=256)\n",
    "#show(p)\n",
    "\n",
    "#f = sample.plot_channel('FS Lin', source='raw')\n",
    "#plt.show()"
   ]
  },
  {
   "cell_type": "code",
   "execution_count": null,
   "id": "6ab2633c",
   "metadata": {},
   "outputs": [],
   "source": [
    "#p = sample.plot_scatter('FS Lin', 'SS Lin', source='raw')\n",
    "\n",
    "#show(p)"
   ]
  },
  {
   "cell_type": "code",
   "execution_count": null,
   "id": "8d1c2f79",
   "metadata": {},
   "outputs": [],
   "source": [
    "#xform = fk.transforms.LogicleTransform('my_logicle', param_t=1024, param_w=0.5, param_m=4.5, param_a=0)\n",
    "#sample.apply_transform(xform)\n",
    "# change source to 'xform' to visualize the transformed data\n",
    "#p = sample.plot_scatter('FS Lin', 'SS Lin', source='xform')\n",
    "#show(p)"
   ]
  }
 ],
 "metadata": {
  "kernelspec": {
   "display_name": "Python 3 (ipykernel)",
   "language": "python",
   "name": "python3"
  },
  "language_info": {
   "codemirror_mode": {
    "name": "ipython",
    "version": 3
   },
   "file_extension": ".py",
   "mimetype": "text/x-python",
   "name": "python",
   "nbconvert_exporter": "python",
   "pygments_lexer": "ipython3",
   "version": "3.11.5"
  }
 },
 "nbformat": 4,
 "nbformat_minor": 5
}
